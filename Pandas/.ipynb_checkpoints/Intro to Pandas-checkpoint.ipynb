{
 "cells": [
  {
   "cell_type": "markdown",
   "id": "e9bc9036-316d-4a2d-b634-e3691927b02a",
   "metadata": {},
   "source": [
    "***What Can we do with pandas?***<br>\n",
    "* Tool's for reading and writing data between many formats.\n",
    "* Intelligently grab data based on indexing, logic, subsetting, and more.\n",
    "* Handle missing data.\n",
    "* Adjust and restructure data."
   ]
  },
  {
   "cell_type": "code",
   "execution_count": 1,
   "id": "52f57e12-f574-4f21-a4f9-47f89ecbb988",
   "metadata": {},
   "outputs": [],
   "source": [
    "# Importing Pandas\n",
    "import pandas as pd"
   ]
  }
 ],
 "metadata": {
  "kernelspec": {
   "display_name": "Python 3 (ipykernel)",
   "language": "python",
   "name": "python3"
  },
  "language_info": {
   "codemirror_mode": {
    "name": "ipython",
    "version": 3
   },
   "file_extension": ".py",
   "mimetype": "text/x-python",
   "name": "python",
   "nbconvert_exporter": "python",
   "pygments_lexer": "ipython3",
   "version": "3.12.4"
  }
 },
 "nbformat": 4,
 "nbformat_minor": 5
}
