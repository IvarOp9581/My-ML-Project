{
 "cells": [
  {
   "cell_type": "markdown",
   "id": "c35f8e5d-107f-41a6-9ead-30ec22ff604c",
   "metadata": {},
   "source": [
    "### ***Numpy Arrays***"
   ]
  },
  {
   "cell_type": "code",
   "execution_count": 2,
   "id": "21678b03-6ab0-461c-8b21-9631419a5306",
   "metadata": {},
   "outputs": [],
   "source": [
    "import numpy as np"
   ]
  },
  {
   "cell_type": "markdown",
   "id": "bd842651-8358-4508-a9f6-1dddf21d7631",
   "metadata": {},
   "source": [
    "### ***Creating Numpy Array Using Standard Python List:***"
   ]
  },
  {
   "cell_type": "code",
   "execution_count": 4,
   "id": "8aa5afa2-98b1-48e9-bef8-0359c4a373d0",
   "metadata": {},
   "outputs": [],
   "source": [
    "my_list = [1,2,3]"
   ]
  },
  {
   "cell_type": "code",
   "execution_count": 5,
   "id": "258f4242-a8b1-4193-9a6b-664640886b02",
   "metadata": {},
   "outputs": [
    {
     "data": {
      "text/plain": [
       "list"
      ]
     },
     "execution_count": 5,
     "metadata": {},
     "output_type": "execute_result"
    }
   ],
   "source": [
    "type(my_list)"
   ]
  },
  {
   "cell_type": "code",
   "execution_count": 6,
   "id": "07359469-89c3-4568-97a4-299a8c6d4f99",
   "metadata": {},
   "outputs": [
    {
     "data": {
      "text/plain": [
       "array([1, 2, 3])"
      ]
     },
     "execution_count": 6,
     "metadata": {},
     "output_type": "execute_result"
    }
   ],
   "source": [
    "np.array(my_list)"
   ]
  },
  {
   "cell_type": "markdown",
   "id": "95c3040a-ede4-4775-ac31-1d36f68b78b1",
   "metadata": {},
   "source": [
    "Keep in mind this doesn't effect the original my_list as a whole. We have to reaasign it to any variable ex:- myarr"
   ]
  },
  {
   "cell_type": "code",
   "execution_count": 8,
   "id": "896a827f-be65-40d0-96ae-4319f81da10e",
   "metadata": {},
   "outputs": [],
   "source": [
    "myarr = np.array(my_list)"
   ]
  },
  {
   "cell_type": "code",
   "execution_count": 9,
   "id": "9dd8b9c2-ac9e-4a18-bc49-a2440f2500e6",
   "metadata": {},
   "outputs": [
    {
     "data": {
      "text/plain": [
       "array([1, 2, 3])"
      ]
     },
     "execution_count": 9,
     "metadata": {},
     "output_type": "execute_result"
    }
   ],
   "source": [
    "myarr"
   ]
  },
  {
   "cell_type": "code",
   "execution_count": 10,
   "id": "6c04f278-cff6-4afc-b71e-7b14343feb34",
   "metadata": {},
   "outputs": [
    {
     "data": {
      "text/plain": [
       "numpy.ndarray"
      ]
     },
     "execution_count": 10,
     "metadata": {},
     "output_type": "execute_result"
    }
   ],
   "source": [
    "type(myarr)"
   ]
  },
  {
   "cell_type": "markdown",
   "id": "e1b31233-7142-4990-afb4-596a2201c70f",
   "metadata": {},
   "source": [
    "***Creating a N-dimentional array***"
   ]
  },
  {
   "cell_type": "code",
   "execution_count": 12,
   "id": "1bea0909-ee3d-4791-918b-b3c120e0daeb",
   "metadata": {},
   "outputs": [],
   "source": [
    "my_matrix = [[1,2,3],[4,5,6], [7,8,9]]"
   ]
  },
  {
   "cell_type": "code",
   "execution_count": 13,
   "id": "b2b6ee73-3f06-4903-8936-2bae07db6de8",
   "metadata": {},
   "outputs": [
    {
     "data": {
      "text/plain": [
       "[[1, 2, 3], [4, 5, 6], [7, 8, 9]]"
      ]
     },
     "execution_count": 13,
     "metadata": {},
     "output_type": "execute_result"
    }
   ],
   "source": [
    "my_matrix"
   ]
  },
  {
   "cell_type": "markdown",
   "id": "352ef0bd-c1fc-4ab7-88e3-f58ab4636fe5",
   "metadata": {},
   "source": [
    "***my_matrix now just look's like a standard python nested list***"
   ]
  },
  {
   "cell_type": "code",
   "execution_count": 15,
   "id": "759d72ed-e2bc-42b5-aa62-ee6d30496d75",
   "metadata": {},
   "outputs": [
    {
     "data": {
      "text/plain": [
       "array([[1, 2, 3],\n",
       "       [4, 5, 6],\n",
       "       [7, 8, 9]])"
      ]
     },
     "execution_count": 15,
     "metadata": {},
     "output_type": "execute_result"
    }
   ],
   "source": [
    "np.array(my_matrix)"
   ]
  },
  {
   "cell_type": "markdown",
   "id": "35c0963a-f81c-4356-a208-01d34838a31b",
   "metadata": {},
   "source": [
    "### ***Built-in Functions of Numpy Array:***"
   ]
  },
  {
   "cell_type": "code",
   "execution_count": 17,
   "id": "c5df2237-d5eb-47e1-9710-b8cd293608fc",
   "metadata": {},
   "outputs": [
    {
     "data": {
      "text/plain": [
       "array([0, 1, 2, 3, 4, 5, 6, 7, 8, 9])"
      ]
     },
     "execution_count": 17,
     "metadata": {},
     "output_type": "execute_result"
    }
   ],
   "source": [
    "np.arange(0,10)                          # Numpy's arrange function is equivalent to Python's Built in Range Function"
   ]
  },
  {
   "cell_type": "code",
   "execution_count": 18,
   "id": "08d6846c-94b8-44fd-9829-50fd42b29854",
   "metadata": {},
   "outputs": [],
   "source": [
    "# help(np.arange)    --------> we can use help(any function) to read the doc-string of that function"
   ]
  },
  {
   "cell_type": "code",
   "execution_count": 19,
   "id": "a4599305-ad0a-49da-9f3b-733dc8de30d4",
   "metadata": {},
   "outputs": [
    {
     "data": {
      "text/plain": [
       "array([  0,   2,   4,   6,   8,  10,  12,  14,  16,  18,  20,  22,  24,\n",
       "        26,  28,  30,  32,  34,  36,  38,  40,  42,  44,  46,  48,  50,\n",
       "        52,  54,  56,  58,  60,  62,  64,  66,  68,  70,  72,  74,  76,\n",
       "        78,  80,  82,  84,  86,  88,  90,  92,  94,  96,  98, 100])"
      ]
     },
     "execution_count": 19,
     "metadata": {},
     "output_type": "execute_result"
    }
   ],
   "source": [
    "np.arange(0,101,2)"
   ]
  },
  {
   "cell_type": "code",
   "execution_count": 20,
   "id": "a3e9dd7a-2013-4a0d-bf49-95e50abbf05d",
   "metadata": {},
   "outputs": [
    {
     "data": {
      "text/plain": [
       "array([0., 0., 0., 0., 0.])"
      ]
     },
     "execution_count": 20,
     "metadata": {},
     "output_type": "execute_result"
    }
   ],
   "source": [
    "np.zeros(5)"
   ]
  },
  {
   "cell_type": "markdown",
   "id": "e34d929f-c770-4900-a57b-10e0b847bff4",
   "metadata": {},
   "source": [
    "***Note: That the zeros here are floating point numbers***"
   ]
  },
  {
   "cell_type": "code",
   "execution_count": 22,
   "id": "52772d13-10a1-4f18-abf1-fad6045ecb70",
   "metadata": {},
   "outputs": [
    {
     "data": {
      "text/plain": [
       "array([[0., 0., 0., 0., 0.],\n",
       "       [0., 0., 0., 0., 0.]])"
      ]
     },
     "execution_count": 22,
     "metadata": {},
     "output_type": "execute_result"
    }
   ],
   "source": [
    "np.zeros((2,5))"
   ]
  },
  {
   "cell_type": "code",
   "execution_count": 23,
   "id": "f8c7f3aa-fda3-4336-a013-f6fa8bac3903",
   "metadata": {},
   "outputs": [
    {
     "data": {
      "text/plain": [
       "array([[1., 1., 1., 1.],\n",
       "       [1., 1., 1., 1.],\n",
       "       [1., 1., 1., 1.],\n",
       "       [1., 1., 1., 1.]])"
      ]
     },
     "execution_count": 23,
     "metadata": {},
     "output_type": "execute_result"
    }
   ],
   "source": [
    "np.ones((4,4))"
   ]
  },
  {
   "cell_type": "code",
   "execution_count": 24,
   "id": "56d016b4-35a2-4a10-9d44-6df03b35cbec",
   "metadata": {},
   "outputs": [
    {
     "data": {
      "text/plain": [
       "array([1., 1., 1., 1., 1.])"
      ]
     },
     "execution_count": 24,
     "metadata": {},
     "output_type": "execute_result"
    }
   ],
   "source": [
    "np.ones(5)"
   ]
  },
  {
   "cell_type": "code",
   "execution_count": 25,
   "id": "73a64acd-0fae-463b-af89-201316ef4460",
   "metadata": {},
   "outputs": [
    {
     "data": {
      "text/plain": [
       "array([ 0.,  5., 10.])"
      ]
     },
     "execution_count": 25,
     "metadata": {},
     "output_type": "execute_result"
    }
   ],
   "source": [
    "np.linspace(0,10,3)          # This function returns a evenly spaced numbers over a specified interval"
   ]
  },
  {
   "cell_type": "code",
   "execution_count": 26,
   "id": "d6b1d156-ce41-4734-93a9-6148ef6a9115",
   "metadata": {},
   "outputs": [
    {
     "data": {
      "text/plain": [
       "array([ 0.,  1.,  2.,  3.,  4.,  5.,  6.,  7.,  8.,  9., 10.])"
      ]
     },
     "execution_count": 26,
     "metadata": {},
     "output_type": "execute_result"
    }
   ],
   "source": [
    "np.linspace(0,10,11)"
   ]
  },
  {
   "cell_type": "code",
   "execution_count": 27,
   "id": "117d4b66-ee48-4879-af67-a332003a8dd3",
   "metadata": {},
   "outputs": [
    {
     "data": {
      "text/plain": [
       "11"
      ]
     },
     "execution_count": 27,
     "metadata": {},
     "output_type": "execute_result"
    }
   ],
   "source": [
    "len(np.linspace(0,10,11))"
   ]
  },
  {
   "cell_type": "code",
   "execution_count": 28,
   "id": "50258f66-1095-49a0-a62c-66bcbcc1c771",
   "metadata": {},
   "outputs": [
    {
     "data": {
      "text/plain": [
       "array([[1., 0., 0., 0., 0.],\n",
       "       [0., 1., 0., 0., 0.],\n",
       "       [0., 0., 1., 0., 0.],\n",
       "       [0., 0., 0., 1., 0.],\n",
       "       [0., 0., 0., 0., 1.]])"
      ]
     },
     "execution_count": 28,
     "metadata": {},
     "output_type": "execute_result"
    }
   ],
   "source": [
    "np.eye(5)           #Create a identity matrix"
   ]
  },
  {
   "cell_type": "markdown",
   "id": "77a47b32-ea9c-45f7-bc13-9892524d2145",
   "metadata": {},
   "source": [
    "***Numpy Random Library:***"
   ]
  },
  {
   "cell_type": "code",
   "execution_count": 30,
   "id": "a16aded3-f640-416b-925c-c05269566606",
   "metadata": {},
   "outputs": [
    {
     "data": {
      "text/plain": [
       "array([0.79678417])"
      ]
     },
     "execution_count": 30,
     "metadata": {},
     "output_type": "execute_result"
    }
   ],
   "source": [
    "np.random.rand(1)"
   ]
  },
  {
   "cell_type": "code",
   "execution_count": 31,
   "id": "25e12300-55ae-407c-a872-ec70d0d612df",
   "metadata": {},
   "outputs": [
    {
     "data": {
      "text/plain": [
       "array([[0.96805784, 0.65022211],\n",
       "       [0.66523505, 0.51994583],\n",
       "       [0.97064251, 0.4221929 ],\n",
       "       [0.79865678, 0.18209801],\n",
       "       [0.45176051, 0.49253432]])"
      ]
     },
     "execution_count": 31,
     "metadata": {},
     "output_type": "execute_result"
    }
   ],
   "source": [
    "np.random.rand(5,2)"
   ]
  },
  {
   "cell_type": "code",
   "execution_count": 32,
   "id": "12660552-2f1e-4206-8e8a-16cdb5bf506c",
   "metadata": {},
   "outputs": [
    {
     "data": {
      "text/plain": [
       "array([-0.8602807 ,  0.91471749,  0.31401291,  1.29368007,  0.27999735,\n",
       "        0.86888176,  0.02568879, -0.64347109, -1.64851487,  0.1700502 ])"
      ]
     },
     "execution_count": 32,
     "metadata": {},
     "output_type": "execute_result"
    }
   ],
   "source": [
    "np.random.randn(10)"
   ]
  },
  {
   "cell_type": "code",
   "execution_count": 33,
   "id": "1c090598-7122-424d-a0b7-897123d4beeb",
   "metadata": {},
   "outputs": [
    {
     "data": {
      "text/plain": [
       "array([[-0.90761196, -0.63928043, -0.49680698],\n",
       "       [-0.44899535,  1.29595018,  1.19911244]])"
      ]
     },
     "execution_count": 33,
     "metadata": {},
     "output_type": "execute_result"
    }
   ],
   "source": [
    "np.random.randn(2,3)"
   ]
  },
  {
   "cell_type": "code",
   "execution_count": 34,
   "id": "a34a48bc-e1a6-4108-aa60-7c9dac7bd87d",
   "metadata": {},
   "outputs": [
    {
     "data": {
      "text/plain": [
       "54"
      ]
     },
     "execution_count": 34,
     "metadata": {},
     "output_type": "execute_result"
    }
   ],
   "source": [
    "np.random.randint(0,101)"
   ]
  },
  {
   "cell_type": "code",
   "execution_count": 35,
   "id": "93397be5-17a2-474e-b161-549edf67bda5",
   "metadata": {},
   "outputs": [
    {
     "data": {
      "text/plain": [
       "array([38, 65, 73, 68, 57])"
      ]
     },
     "execution_count": 35,
     "metadata": {},
     "output_type": "execute_result"
    }
   ],
   "source": [
    "np.random.randint(0,101,5)"
   ]
  },
  {
   "cell_type": "code",
   "execution_count": 36,
   "id": "5f125af5-a06b-4bde-b4b1-4302c94d4fee",
   "metadata": {},
   "outputs": [
    {
     "data": {
      "text/plain": [
       "array([[62, 10,  9, 36, 33],\n",
       "       [95, 70, 34,  5, 23],\n",
       "       [43, 62, 29,  7, 57],\n",
       "       [35, 50, 91, 78, 95]])"
      ]
     },
     "execution_count": 36,
     "metadata": {},
     "output_type": "execute_result"
    }
   ],
   "source": [
    "np.random.randint(0,101,(4,5))"
   ]
  },
  {
   "cell_type": "code",
   "execution_count": 37,
   "id": "0fea0053-4f4c-41f4-ab67-4d7620c11e06",
   "metadata": {},
   "outputs": [
    {
     "data": {
      "text/plain": [
       "array([0.37454012, 0.95071431, 0.73199394, 0.59865848])"
      ]
     },
     "execution_count": 37,
     "metadata": {},
     "output_type": "execute_result"
    }
   ],
   "source": [
    "# Setting a seed to get a particular set of random numbers\n",
    "\n",
    "np.random.seed(42)        # 42 is a common orbitary number but you can use any number for seed\n",
    "np.random.rand(4)"
   ]
  },
  {
   "cell_type": "markdown",
   "id": "6bb286ac-fc71-4602-bdc1-534203b359f9",
   "metadata": {},
   "source": [
    "***Make sure you're seed is in the same cell as the code***"
   ]
  },
  {
   "cell_type": "code",
   "execution_count": 39,
   "id": "2ec9b7a7-a51a-46b2-8c82-476daf87d348",
   "metadata": {},
   "outputs": [],
   "source": [
    "arr = np.arange(0,25)"
   ]
  },
  {
   "cell_type": "code",
   "execution_count": 40,
   "id": "feb9fbe3-5810-4a6c-a7a3-ed8b087c60a9",
   "metadata": {},
   "outputs": [
    {
     "data": {
      "text/plain": [
       "array([ 0,  1,  2,  3,  4,  5,  6,  7,  8,  9, 10, 11, 12, 13, 14, 15, 16,\n",
       "       17, 18, 19, 20, 21, 22, 23, 24])"
      ]
     },
     "execution_count": 40,
     "metadata": {},
     "output_type": "execute_result"
    }
   ],
   "source": [
    "arr"
   ]
  },
  {
   "cell_type": "code",
   "execution_count": 41,
   "id": "fc16f77d-1526-4891-be5a-c7b880e6d19e",
   "metadata": {},
   "outputs": [
    {
     "data": {
      "text/plain": [
       "array([[ 0,  1,  2,  3,  4],\n",
       "       [ 5,  6,  7,  8,  9],\n",
       "       [10, 11, 12, 13, 14],\n",
       "       [15, 16, 17, 18, 19],\n",
       "       [20, 21, 22, 23, 24]])"
      ]
     },
     "execution_count": 41,
     "metadata": {},
     "output_type": "execute_result"
    }
   ],
   "source": [
    "arr.reshape(5,5)"
   ]
  },
  {
   "cell_type": "code",
   "execution_count": 42,
   "id": "5f12b085-d9d0-4afe-88a7-444cef65d9e8",
   "metadata": {},
   "outputs": [
    {
     "ename": "ValueError",
     "evalue": "cannot reshape array of size 25 into shape (5,4)",
     "output_type": "error",
     "traceback": [
      "\u001b[1;31m---------------------------------------------------------------------------\u001b[0m",
      "\u001b[1;31mValueError\u001b[0m                                Traceback (most recent call last)",
      "Cell \u001b[1;32mIn[42], line 1\u001b[0m\n\u001b[1;32m----> 1\u001b[0m arr\u001b[38;5;241m.\u001b[39mreshape(\u001b[38;5;241m5\u001b[39m,\u001b[38;5;241m4\u001b[39m)\n",
      "\u001b[1;31mValueError\u001b[0m: cannot reshape array of size 25 into shape (5,4)"
     ]
    }
   ],
   "source": [
    "arr.reshape(5,4)"
   ]
  },
  {
   "cell_type": "code",
   "execution_count": 43,
   "id": "0d1ef6cf-1b8e-41a8-a2d7-e81cbac161d6",
   "metadata": {},
   "outputs": [],
   "source": [
    "randarr = np.random.randint(0,101,10)"
   ]
  },
  {
   "cell_type": "code",
   "execution_count": 45,
   "id": "5c972c3d-88cd-44db-a759-fbac20930e1a",
   "metadata": {},
   "outputs": [
    {
     "data": {
      "text/plain": [
       "array([82, 86, 74, 74, 87, 99, 23,  2, 21, 52])"
      ]
     },
     "execution_count": 45,
     "metadata": {},
     "output_type": "execute_result"
    }
   ],
   "source": [
    "randarr"
   ]
  },
  {
   "cell_type": "code",
   "execution_count": 47,
   "id": "35724275-2bc4-46eb-a054-c15ba5fa2d78",
   "metadata": {},
   "outputs": [
    {
     "data": {
      "text/plain": [
       "99"
      ]
     },
     "execution_count": 47,
     "metadata": {},
     "output_type": "execute_result"
    }
   ],
   "source": [
    "randarr.max()   # To see the maximum interger in an arr"
   ]
  },
  {
   "cell_type": "code",
   "execution_count": 49,
   "id": "adfcc773-71e2-4305-a8d5-65f7cf6fdbe7",
   "metadata": {},
   "outputs": [
    {
     "data": {
      "text/plain": [
       "2"
      ]
     },
     "execution_count": 49,
     "metadata": {},
     "output_type": "execute_result"
    }
   ],
   "source": [
    "randarr.min()   # Tp see the minimum integer in an arr"
   ]
  },
  {
   "cell_type": "code",
   "execution_count": 51,
   "id": "35542caf-9b86-4111-a428-a58aa8d11c6b",
   "metadata": {},
   "outputs": [
    {
     "data": {
      "text/plain": [
       "5"
      ]
     },
     "execution_count": 51,
     "metadata": {},
     "output_type": "execute_result"
    }
   ],
   "source": [
    "randarr.argmax()  # To know the index position of an maximum integer"
   ]
  },
  {
   "cell_type": "code",
   "execution_count": 53,
   "id": "b95eef85-1f66-4ffe-9313-a7bba23c7a24",
   "metadata": {},
   "outputs": [
    {
     "data": {
      "text/plain": [
       "7"
      ]
     },
     "execution_count": 53,
     "metadata": {},
     "output_type": "execute_result"
    }
   ],
   "source": [
    "randarr.argmin()  # To know the index position of an minimum integer"
   ]
  },
  {
   "cell_type": "code",
   "execution_count": 55,
   "id": "6eabbd2f-da6f-400a-aa93-bf247d77abce",
   "metadata": {},
   "outputs": [
    {
     "data": {
      "text/plain": [
       "dtype('int32')"
      ]
     },
     "execution_count": 55,
     "metadata": {},
     "output_type": "execute_result"
    }
   ],
   "source": [
    "randarr.dtype   # To know the datatype of an array"
   ]
  },
  {
   "cell_type": "code",
   "execution_count": 57,
   "id": "52906326-6921-4897-8d6d-58c006516469",
   "metadata": {},
   "outputs": [
    {
     "data": {
      "text/plain": [
       "array([ 0,  1,  2,  3,  4,  5,  6,  7,  8,  9, 10, 11, 12, 13, 14, 15, 16,\n",
       "       17, 18, 19, 20, 21, 22, 23, 24])"
      ]
     },
     "execution_count": 57,
     "metadata": {},
     "output_type": "execute_result"
    }
   ],
   "source": [
    "arr"
   ]
  },
  {
   "cell_type": "code",
   "execution_count": 59,
   "id": "28d3a4a0-498b-4037-a398-83bcf1ba2a2a",
   "metadata": {},
   "outputs": [
    {
     "data": {
      "text/plain": [
       "(25,)"
      ]
     },
     "execution_count": 59,
     "metadata": {},
     "output_type": "execute_result"
    }
   ],
   "source": [
    "arr.shape"
   ]
  },
  {
   "cell_type": "markdown",
   "id": "00ed579e-7a12-47de-abe3-12f5ff508b4c",
   "metadata": {},
   "source": [
    "***Why (25,nothing)? : <br>***\n",
    "***Because (25,) represents whether the data contained as a long format of the array horizontally or vertically. <br>***\n",
    "***If it's (25,) then there are no columns and it is a list of numbers <br>***\n",
    "***If it's (25,1) then there are one long vertical format numbers***"
   ]
  },
  {
   "cell_type": "code",
   "execution_count": 62,
   "id": "0065fb32-a954-426b-9711-1daa5def43b3",
   "metadata": {},
   "outputs": [],
   "source": [
    "arr = arr.reshape(5,5)"
   ]
  },
  {
   "cell_type": "code",
   "execution_count": 64,
   "id": "b1e4c498-4390-4592-a4a2-46d64f119518",
   "metadata": {},
   "outputs": [
    {
     "data": {
      "text/plain": [
       "(5, 5)"
      ]
     },
     "execution_count": 64,
     "metadata": {},
     "output_type": "execute_result"
    }
   ],
   "source": [
    "arr.shape"
   ]
  },
  {
   "cell_type": "code",
   "execution_count": 66,
   "id": "a792d37f-b41c-4615-9998-001cf28ed2b9",
   "metadata": {},
   "outputs": [
    {
     "data": {
      "text/plain": [
       "array([[ 0],\n",
       "       [ 1],\n",
       "       [ 2],\n",
       "       [ 3],\n",
       "       [ 4],\n",
       "       [ 5],\n",
       "       [ 6],\n",
       "       [ 7],\n",
       "       [ 8],\n",
       "       [ 9],\n",
       "       [10],\n",
       "       [11],\n",
       "       [12],\n",
       "       [13],\n",
       "       [14],\n",
       "       [15],\n",
       "       [16],\n",
       "       [17],\n",
       "       [18],\n",
       "       [19],\n",
       "       [20],\n",
       "       [21],\n",
       "       [22],\n",
       "       [23],\n",
       "       [24]])"
      ]
     },
     "execution_count": 66,
     "metadata": {},
     "output_type": "execute_result"
    }
   ],
   "source": [
    "arr.reshape(25,1)"
   ]
  },
  {
   "cell_type": "code",
   "execution_count": 68,
   "id": "c50dc871-dce4-4a30-8089-fa4bca492a65",
   "metadata": {},
   "outputs": [
    {
     "data": {
      "text/plain": [
       "(25, 1)"
      ]
     },
     "execution_count": 68,
     "metadata": {},
     "output_type": "execute_result"
    }
   ],
   "source": [
    "arr.reshape(25,1).shape"
   ]
  },
  {
   "cell_type": "code",
   "execution_count": null,
   "id": "5ef0a3a2-23d1-4722-9a7d-6dcec6f88a3c",
   "metadata": {},
   "outputs": [],
   "source": []
  }
 ],
 "metadata": {
  "kernelspec": {
   "display_name": "Python 3 (ipykernel)",
   "language": "python",
   "name": "python3"
  },
  "language_info": {
   "codemirror_mode": {
    "name": "ipython",
    "version": 3
   },
   "file_extension": ".py",
   "mimetype": "text/x-python",
   "name": "python",
   "nbconvert_exporter": "python",
   "pygments_lexer": "ipython3",
   "version": "3.12.4"
  }
 },
 "nbformat": 4,
 "nbformat_minor": 5
}
